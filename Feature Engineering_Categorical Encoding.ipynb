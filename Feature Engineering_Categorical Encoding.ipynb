{
 "cells": [
  {
   "cell_type": "code",
   "execution_count": 3,
   "metadata": {},
   "outputs": [],
   "source": [
    "import numpy as np\n",
    "import pandas as pd\n",
    "from sklearn import preprocessing, metrics\n",
    "import lightgbm as lgb\n",
    "\n",
    "clicks = pd.read_csv('C://Users/hp/Downloads/train_sample.csv')"
   ]
  },
  {
   "cell_type": "code",
   "execution_count": 4,
   "metadata": {},
   "outputs": [
    {
     "data": {
      "text/html": [
       "<div>\n",
       "<style scoped>\n",
       "    .dataframe tbody tr th:only-of-type {\n",
       "        vertical-align: middle;\n",
       "    }\n",
       "\n",
       "    .dataframe tbody tr th {\n",
       "        vertical-align: top;\n",
       "    }\n",
       "\n",
       "    .dataframe thead th {\n",
       "        text-align: right;\n",
       "    }\n",
       "</style>\n",
       "<table border=\"1\" class=\"dataframe\">\n",
       "  <thead>\n",
       "    <tr style=\"text-align: right;\">\n",
       "      <th></th>\n",
       "      <th>ip</th>\n",
       "      <th>app</th>\n",
       "      <th>device</th>\n",
       "      <th>os</th>\n",
       "      <th>channel</th>\n",
       "      <th>click_time</th>\n",
       "      <th>attributed_time</th>\n",
       "      <th>is_attributed</th>\n",
       "    </tr>\n",
       "  </thead>\n",
       "  <tbody>\n",
       "    <tr>\n",
       "      <th>0</th>\n",
       "      <td>89489</td>\n",
       "      <td>3</td>\n",
       "      <td>1</td>\n",
       "      <td>13</td>\n",
       "      <td>379</td>\n",
       "      <td>11/6/2017 15:13</td>\n",
       "      <td>NaN</td>\n",
       "      <td>0</td>\n",
       "    </tr>\n",
       "    <tr>\n",
       "      <th>1</th>\n",
       "      <td>204158</td>\n",
       "      <td>35</td>\n",
       "      <td>1</td>\n",
       "      <td>13</td>\n",
       "      <td>21</td>\n",
       "      <td>11/6/2017 15:41</td>\n",
       "      <td>11/7/2017 8:17</td>\n",
       "      <td>1</td>\n",
       "    </tr>\n",
       "    <tr>\n",
       "      <th>2</th>\n",
       "      <td>3437</td>\n",
       "      <td>6</td>\n",
       "      <td>1</td>\n",
       "      <td>13</td>\n",
       "      <td>459</td>\n",
       "      <td>11/6/2017 15:42</td>\n",
       "      <td>NaN</td>\n",
       "      <td>0</td>\n",
       "    </tr>\n",
       "    <tr>\n",
       "      <th>3</th>\n",
       "      <td>167543</td>\n",
       "      <td>3</td>\n",
       "      <td>1</td>\n",
       "      <td>13</td>\n",
       "      <td>379</td>\n",
       "      <td>11/6/2017 15:56</td>\n",
       "      <td>NaN</td>\n",
       "      <td>0</td>\n",
       "    </tr>\n",
       "    <tr>\n",
       "      <th>4</th>\n",
       "      <td>147509</td>\n",
       "      <td>3</td>\n",
       "      <td>1</td>\n",
       "      <td>13</td>\n",
       "      <td>379</td>\n",
       "      <td>11/6/2017 15:57</td>\n",
       "      <td>NaN</td>\n",
       "      <td>0</td>\n",
       "    </tr>\n",
       "  </tbody>\n",
       "</table>\n",
       "</div>"
      ],
      "text/plain": [
       "       ip  app  device  os  channel       click_time attributed_time  \\\n",
       "0   89489    3       1  13      379  11/6/2017 15:13             NaN   \n",
       "1  204158   35       1  13       21  11/6/2017 15:41  11/7/2017 8:17   \n",
       "2    3437    6       1  13      459  11/6/2017 15:42             NaN   \n",
       "3  167543    3       1  13      379  11/6/2017 15:56             NaN   \n",
       "4  147509    3       1  13      379  11/6/2017 15:57             NaN   \n",
       "\n",
       "   is_attributed  \n",
       "0              0  \n",
       "1              1  \n",
       "2              0  \n",
       "3              0  \n",
       "4              0  "
      ]
     },
     "execution_count": 4,
     "metadata": {},
     "output_type": "execute_result"
    }
   ],
   "source": [
    "clicks.head()"
   ]
  },
  {
   "cell_type": "code",
   "execution_count": 5,
   "metadata": {},
   "outputs": [],
   "source": [
    "def get_data_splits(dataframe, valid_fraction=0.1):\n",
    "    \"\"\"Splits a dataframe into train, validation, and test sets.\n",
    "\n",
    "    First, orders by the column 'click_time'. Set the size of the \n",
    "    validation and test sets with the valid_fraction keyword argument.\n",
    "    \"\"\"\n",
    "\n",
    "    dataframe = dataframe.sort_values('click_time')\n",
    "    valid_rows = int(len(dataframe) * valid_fraction)\n",
    "    train = dataframe[:-valid_rows * 2]\n",
    "    # valid size == test size, last two sections of the data\n",
    "    valid = dataframe[-valid_rows * 2:-valid_rows]\n",
    "    test = dataframe[-valid_rows:]\n",
    "    \n",
    "    return train, valid, test\n",
    "\n",
    "def train_model(train, valid, test=None, feature_cols=None):\n",
    "    if feature_cols is None:\n",
    "        feature_cols = train.columns.drop(['click_time', 'attributed_time',\n",
    "                                           'is_attributed'])\n",
    "    dtrain = lgb.Dataset(train[feature_cols], label=train['is_attributed'])\n",
    "    dvalid = lgb.Dataset(valid[feature_cols], label=valid['is_attributed'])\n",
    "    \n",
    "    param = {'num_leaves': 64, 'objective': 'binary', \n",
    "             'metric': 'auc', 'seed': 7}\n",
    "    num_round = 1000\n",
    "    bst = lgb.train(param, dtrain, num_round, valid_sets=[dvalid], \n",
    "                    early_stopping_rounds=20, verbose_eval=False)\n",
    "    \n",
    "    valid_pred = bst.predict(valid[feature_cols])\n",
    "    valid_score = metrics.roc_auc_score(valid['is_attributed'], valid_pred)\n",
    "    print(f\"Validation AUC score: {valid_score}\")\n",
    "    \n",
    "    if test is not None: \n",
    "        test_pred = bst.predict(test[feature_cols])\n",
    "        test_score = metrics.roc_auc_score(test['is_attributed'], test_pred)\n",
    "        return bst, valid_score, test_score\n",
    "    else:\n",
    "        return bst, valid_score"
   ]
  },
  {
   "cell_type": "code",
   "execution_count": 6,
   "metadata": {},
   "outputs": [
    {
     "name": "stdout",
     "output_type": "stream",
     "text": [
      "Baseline model\n",
      "[LightGBM] [Info] Number of positive: 165464, number of negative: 673397\n",
      "[LightGBM] [Warning] Auto-choosing row-wise multi-threading, the overhead of testing was 0.029341 seconds.\n",
      "You can set `force_row_wise=true` to remove the overhead.\n",
      "And if memory is not enough, you can set `force_col_wise=true`.\n",
      "[LightGBM] [Info] Total Bins 925\n",
      "[LightGBM] [Info] Number of data points in the train set: 838861, number of used features: 5\n",
      "[LightGBM] [Info] [binary:BoostFromScore]: pavg=0.197248 -> initscore=-1.403581\n",
      "[LightGBM] [Info] Start training from score -1.403581\n",
      "Validation AUC score: 0.9687875635640151\n"
     ]
    }
   ],
   "source": [
    "print(\"Baseline model\")\n",
    "train, valid, test = get_data_splits(clicks)\n",
    "tm = train_model(train, valid)"
   ]
  },
  {
   "cell_type": "markdown",
   "metadata": {},
   "source": [
    "# Count encoding"
   ]
  },
  {
   "cell_type": "code",
   "execution_count": 35,
   "metadata": {},
   "outputs": [],
   "source": [
    "import category_encoders as ce\n",
    "\n",
    "cat_features = ['ip', 'app', 'device', 'os', 'channel']\n",
    "train, valid, test = get_data_splits(clicks)"
   ]
  },
  {
   "cell_type": "code",
   "execution_count": 36,
   "metadata": {},
   "outputs": [
    {
     "name": "stderr",
     "output_type": "stream",
     "text": [
      "C:\\Users\\hp\\anaconda3\\lib\\site-packages\\category_encoders\\utils.py:21: FutureWarning: is_categorical is deprecated and will be removed in a future version.  Use is_categorical_dtype instead\n",
      "  elif pd.api.types.is_categorical(cols):\n"
     ]
    }
   ],
   "source": [
    "# Create the count encoder\n",
    "count_enc = ce.CountEncoder(cols=cat_features)\n",
    "\n",
    "# Learn encoding from the training set\n",
    "count_encoded = count_enc.fit(train[cat_features])\n",
    "\n",
    "# Apply encoding to the train and validation sets as new columns\n",
    "# Make sure to add `_count` as a suffix to the new columns\n",
    "train_encoded = train.join(count_enc.transform(train[cat_features]).add_suffix('_count'))\n",
    "valid_encoded = valid.join(count_enc.transform(valid[cat_features]).add_suffix('_count'))\n"
   ]
  },
  {
   "cell_type": "code",
   "execution_count": 37,
   "metadata": {},
   "outputs": [
    {
     "name": "stdout",
     "output_type": "stream",
     "text": [
      "[LightGBM] [Info] Number of positive: 165464, number of negative: 673397\n",
      "[LightGBM] [Warning] Auto-choosing col-wise multi-threading, the overhead of testing was 0.276614 seconds.\n",
      "You can set `force_col_wise=true` to remove the overhead.\n",
      "[LightGBM] [Info] Total Bins 1645\n",
      "[LightGBM] [Info] Number of data points in the train set: 838861, number of used features: 10\n",
      "[LightGBM] [Info] [binary:BoostFromScore]: pavg=0.197248 -> initscore=-1.403581\n",
      "[LightGBM] [Info] Start training from score -1.403581\n",
      "Validation AUC score: 0.9704790959892806\n"
     ]
    },
    {
     "data": {
      "text/plain": [
       "(<lightgbm.basic.Booster at 0x1edb22ea460>, 0.9704790959892806)"
      ]
     },
     "execution_count": 37,
     "metadata": {},
     "output_type": "execute_result"
    }
   ],
   "source": [
    "train_model(train_encoded, valid_encoded)"
   ]
  },
  {
   "cell_type": "code",
   "execution_count": 38,
   "metadata": {},
   "outputs": [
    {
     "data": {
      "text/html": [
       "<div>\n",
       "<style scoped>\n",
       "    .dataframe tbody tr th:only-of-type {\n",
       "        vertical-align: middle;\n",
       "    }\n",
       "\n",
       "    .dataframe tbody tr th {\n",
       "        vertical-align: top;\n",
       "    }\n",
       "\n",
       "    .dataframe thead th {\n",
       "        text-align: right;\n",
       "    }\n",
       "</style>\n",
       "<table border=\"1\" class=\"dataframe\">\n",
       "  <thead>\n",
       "    <tr style=\"text-align: right;\">\n",
       "      <th></th>\n",
       "      <th>ip</th>\n",
       "      <th>app</th>\n",
       "      <th>device</th>\n",
       "      <th>os</th>\n",
       "      <th>channel</th>\n",
       "      <th>click_time</th>\n",
       "      <th>attributed_time</th>\n",
       "      <th>is_attributed</th>\n",
       "      <th>ip_count</th>\n",
       "      <th>app_count</th>\n",
       "      <th>device_count</th>\n",
       "      <th>os_count</th>\n",
       "      <th>channel_count</th>\n",
       "    </tr>\n",
       "  </thead>\n",
       "  <tbody>\n",
       "    <tr>\n",
       "      <th>0</th>\n",
       "      <td>89489</td>\n",
       "      <td>3</td>\n",
       "      <td>1</td>\n",
       "      <td>13</td>\n",
       "      <td>379</td>\n",
       "      <td>11/6/2017 15:13</td>\n",
       "      <td>NaN</td>\n",
       "      <td>0</td>\n",
       "      <td>33</td>\n",
       "      <td>114111</td>\n",
       "      <td>746062</td>\n",
       "      <td>169949</td>\n",
       "      <td>12227</td>\n",
       "    </tr>\n",
       "    <tr>\n",
       "      <th>1</th>\n",
       "      <td>204158</td>\n",
       "      <td>35</td>\n",
       "      <td>1</td>\n",
       "      <td>13</td>\n",
       "      <td>21</td>\n",
       "      <td>11/6/2017 15:41</td>\n",
       "      <td>11/7/2017 8:17</td>\n",
       "      <td>1</td>\n",
       "      <td>4</td>\n",
       "      <td>27910</td>\n",
       "      <td>746062</td>\n",
       "      <td>169949</td>\n",
       "      <td>17240</td>\n",
       "    </tr>\n",
       "    <tr>\n",
       "      <th>2</th>\n",
       "      <td>3437</td>\n",
       "      <td>6</td>\n",
       "      <td>1</td>\n",
       "      <td>13</td>\n",
       "      <td>459</td>\n",
       "      <td>11/6/2017 15:42</td>\n",
       "      <td>NaN</td>\n",
       "      <td>0</td>\n",
       "      <td>49</td>\n",
       "      <td>9745</td>\n",
       "      <td>746062</td>\n",
       "      <td>169949</td>\n",
       "      <td>15794</td>\n",
       "    </tr>\n",
       "    <tr>\n",
       "      <th>3</th>\n",
       "      <td>167543</td>\n",
       "      <td>3</td>\n",
       "      <td>1</td>\n",
       "      <td>13</td>\n",
       "      <td>379</td>\n",
       "      <td>11/6/2017 15:56</td>\n",
       "      <td>NaN</td>\n",
       "      <td>0</td>\n",
       "      <td>13</td>\n",
       "      <td>114111</td>\n",
       "      <td>746062</td>\n",
       "      <td>169949</td>\n",
       "      <td>12227</td>\n",
       "    </tr>\n",
       "    <tr>\n",
       "      <th>4</th>\n",
       "      <td>147509</td>\n",
       "      <td>3</td>\n",
       "      <td>1</td>\n",
       "      <td>13</td>\n",
       "      <td>379</td>\n",
       "      <td>11/6/2017 15:57</td>\n",
       "      <td>NaN</td>\n",
       "      <td>0</td>\n",
       "      <td>21</td>\n",
       "      <td>114111</td>\n",
       "      <td>746062</td>\n",
       "      <td>169949</td>\n",
       "      <td>12227</td>\n",
       "    </tr>\n",
       "  </tbody>\n",
       "</table>\n",
       "</div>"
      ],
      "text/plain": [
       "       ip  app  device  os  channel       click_time attributed_time  \\\n",
       "0   89489    3       1  13      379  11/6/2017 15:13             NaN   \n",
       "1  204158   35       1  13       21  11/6/2017 15:41  11/7/2017 8:17   \n",
       "2    3437    6       1  13      459  11/6/2017 15:42             NaN   \n",
       "3  167543    3       1  13      379  11/6/2017 15:56             NaN   \n",
       "4  147509    3       1  13      379  11/6/2017 15:57             NaN   \n",
       "\n",
       "   is_attributed  ip_count  app_count  device_count  os_count  channel_count  \n",
       "0              0        33     114111        746062    169949          12227  \n",
       "1              1         4      27910        746062    169949          17240  \n",
       "2              0        49       9745        746062    169949          15794  \n",
       "3              0        13     114111        746062    169949          12227  \n",
       "4              0        21     114111        746062    169949          12227  "
      ]
     },
     "execution_count": 38,
     "metadata": {},
     "output_type": "execute_result"
    }
   ],
   "source": [
    "train_encoded.head()"
   ]
  },
  {
   "cell_type": "code",
   "execution_count": 39,
   "metadata": {},
   "outputs": [
    {
     "data": {
      "text/html": [
       "<div>\n",
       "<style scoped>\n",
       "    .dataframe tbody tr th:only-of-type {\n",
       "        vertical-align: middle;\n",
       "    }\n",
       "\n",
       "    .dataframe tbody tr th {\n",
       "        vertical-align: top;\n",
       "    }\n",
       "\n",
       "    .dataframe thead th {\n",
       "        text-align: right;\n",
       "    }\n",
       "</style>\n",
       "<table border=\"1\" class=\"dataframe\">\n",
       "  <thead>\n",
       "    <tr style=\"text-align: right;\">\n",
       "      <th></th>\n",
       "      <th>ip</th>\n",
       "      <th>app</th>\n",
       "      <th>device</th>\n",
       "      <th>os</th>\n",
       "      <th>channel</th>\n",
       "      <th>click_time</th>\n",
       "      <th>attributed_time</th>\n",
       "      <th>is_attributed</th>\n",
       "      <th>ip_count</th>\n",
       "      <th>app_count</th>\n",
       "      <th>device_count</th>\n",
       "      <th>os_count</th>\n",
       "      <th>channel_count</th>\n",
       "    </tr>\n",
       "  </thead>\n",
       "  <tbody>\n",
       "    <tr>\n",
       "      <th>497186</th>\n",
       "      <td>60265</td>\n",
       "      <td>64</td>\n",
       "      <td>1</td>\n",
       "      <td>19</td>\n",
       "      <td>459</td>\n",
       "      <td>11/7/2017 9:31</td>\n",
       "      <td>NaN</td>\n",
       "      <td>0</td>\n",
       "      <td>11.0</td>\n",
       "      <td>9670.0</td>\n",
       "      <td>746062.0</td>\n",
       "      <td>191943.0</td>\n",
       "      <td>15794.0</td>\n",
       "    </tr>\n",
       "    <tr>\n",
       "      <th>497185</th>\n",
       "      <td>77415</td>\n",
       "      <td>3</td>\n",
       "      <td>1</td>\n",
       "      <td>13</td>\n",
       "      <td>173</td>\n",
       "      <td>11/7/2017 9:31</td>\n",
       "      <td>NaN</td>\n",
       "      <td>0</td>\n",
       "      <td>11.0</td>\n",
       "      <td>114111.0</td>\n",
       "      <td>746062.0</td>\n",
       "      <td>169949.0</td>\n",
       "      <td>5607.0</td>\n",
       "    </tr>\n",
       "    <tr>\n",
       "      <th>497193</th>\n",
       "      <td>155239</td>\n",
       "      <td>3</td>\n",
       "      <td>1</td>\n",
       "      <td>22</td>\n",
       "      <td>489</td>\n",
       "      <td>11/7/2017 9:31</td>\n",
       "      <td>NaN</td>\n",
       "      <td>0</td>\n",
       "      <td>3.0</td>\n",
       "      <td>114111.0</td>\n",
       "      <td>746062.0</td>\n",
       "      <td>30079.0</td>\n",
       "      <td>9912.0</td>\n",
       "    </tr>\n",
       "    <tr>\n",
       "      <th>497188</th>\n",
       "      <td>190090</td>\n",
       "      <td>11</td>\n",
       "      <td>1</td>\n",
       "      <td>32</td>\n",
       "      <td>173</td>\n",
       "      <td>11/7/2017 9:31</td>\n",
       "      <td>NaN</td>\n",
       "      <td>0</td>\n",
       "      <td>9.0</td>\n",
       "      <td>12724.0</td>\n",
       "      <td>746062.0</td>\n",
       "      <td>8112.0</td>\n",
       "      <td>5607.0</td>\n",
       "    </tr>\n",
       "    <tr>\n",
       "      <th>497179</th>\n",
       "      <td>18695</td>\n",
       "      <td>1</td>\n",
       "      <td>1</td>\n",
       "      <td>14</td>\n",
       "      <td>178</td>\n",
       "      <td>11/7/2017 9:31</td>\n",
       "      <td>NaN</td>\n",
       "      <td>0</td>\n",
       "      <td>47.0</td>\n",
       "      <td>24214.0</td>\n",
       "      <td>746062.0</td>\n",
       "      <td>10581.0</td>\n",
       "      <td>21646.0</td>\n",
       "    </tr>\n",
       "  </tbody>\n",
       "</table>\n",
       "</div>"
      ],
      "text/plain": [
       "            ip  app  device  os  channel      click_time attributed_time  \\\n",
       "497186   60265   64       1  19      459  11/7/2017 9:31             NaN   \n",
       "497185   77415    3       1  13      173  11/7/2017 9:31             NaN   \n",
       "497193  155239    3       1  22      489  11/7/2017 9:31             NaN   \n",
       "497188  190090   11       1  32      173  11/7/2017 9:31             NaN   \n",
       "497179   18695    1       1  14      178  11/7/2017 9:31             NaN   \n",
       "\n",
       "        is_attributed  ip_count  app_count  device_count  os_count  \\\n",
       "497186              0      11.0     9670.0      746062.0  191943.0   \n",
       "497185              0      11.0   114111.0      746062.0  169949.0   \n",
       "497193              0       3.0   114111.0      746062.0   30079.0   \n",
       "497188              0       9.0    12724.0      746062.0    8112.0   \n",
       "497179              0      47.0    24214.0      746062.0   10581.0   \n",
       "\n",
       "        channel_count  \n",
       "497186        15794.0  \n",
       "497185         5607.0  \n",
       "497193         9912.0  \n",
       "497188         5607.0  \n",
       "497179        21646.0  "
      ]
     },
     "execution_count": 39,
     "metadata": {},
     "output_type": "execute_result"
    }
   ],
   "source": [
    "valid_encoded.head()"
   ]
  },
  {
   "cell_type": "markdown",
   "metadata": {},
   "source": [
    "# only encoded column"
   ]
  },
  {
   "cell_type": "code",
   "execution_count": 42,
   "metadata": {},
   "outputs": [],
   "source": [
    "clicks = clicks.sort_values('click_time')\n",
    "valid_rows = int(len(clicks) * 0.1)\n",
    "train = clicks[:-valid_rows * 2]\n",
    "# valid size == test size, last two sections of the data\n",
    "valid = clicks[-valid_rows * 2:-valid_rows]\n",
    "test = clicks[-valid_rows:]"
   ]
  },
  {
   "cell_type": "code",
   "execution_count": 43,
   "metadata": {},
   "outputs": [],
   "source": [
    "feature_cols = train_encoded.columns.drop(['click_time', 'attributed_time','is_attributed','ip','app','device','os','channel'])"
   ]
  },
  {
   "cell_type": "code",
   "execution_count": 46,
   "metadata": {},
   "outputs": [
    {
     "name": "stdout",
     "output_type": "stream",
     "text": [
      "[LightGBM] [Info] Number of positive: 165464, number of negative: 673397\n",
      "[LightGBM] [Warning] Auto-choosing col-wise multi-threading, the overhead of testing was 0.106836 seconds.\n",
      "You can set `force_col_wise=true` to remove the overhead.\n",
      "[LightGBM] [Info] Total Bins 723\n",
      "[LightGBM] [Info] Number of data points in the train set: 838861, number of used features: 5\n",
      "[LightGBM] [Info] [binary:BoostFromScore]: pavg=0.197248 -> initscore=-1.403581\n",
      "[LightGBM] [Info] Start training from score -1.403581\n"
     ]
    }
   ],
   "source": [
    "dtrain = lgb.Dataset(train_encoded[feature_cols], label=train['is_attributed'])\n",
    "dvalid = lgb.Dataset(valid_encoded[feature_cols], label=valid['is_attributed'])\n",
    "param = {'num_leaves': 64, 'objective': 'binary', \n",
    "             'metric': 'auc', 'seed': 7}\n",
    "num_round = 1000\n",
    "bst = lgb.train(param, dtrain, num_round, valid_sets=[dvalid], \n",
    "                    early_stopping_rounds=20, verbose_eval=False)"
   ]
  },
  {
   "cell_type": "code",
   "execution_count": 49,
   "metadata": {},
   "outputs": [
    {
     "name": "stdout",
     "output_type": "stream",
     "text": [
      "Validation AUC score: 0.9685221249439797\n"
     ]
    }
   ],
   "source": [
    "valid_pred = bst.predict(valid_encoded[feature_cols])\n",
    "valid_score = metrics.roc_auc_score(valid_encoded['is_attributed'], valid_pred)\n",
    "print(f\"Validation AUC score: {valid_score}\")"
   ]
  },
  {
   "cell_type": "markdown",
   "metadata": {},
   "source": [
    "# Target Encoding"
   ]
  },
  {
   "cell_type": "code",
   "execution_count": 24,
   "metadata": {},
   "outputs": [
    {
     "name": "stderr",
     "output_type": "stream",
     "text": [
      "C:\\Users\\hp\\anaconda3\\lib\\site-packages\\category_encoders\\utils.py:21: FutureWarning: is_categorical is deprecated and will be removed in a future version.  Use is_categorical_dtype instead\n",
      "  elif pd.api.types.is_categorical(cols):\n"
     ]
    }
   ],
   "source": [
    "# Create the target encoder. You can find this easily by using tab completion.\n",
    "# Start typing ce. the press Tab to bring up a list of classes and functions.\n",
    "target_enc = ce.TargetEncoder(cols=cat_features)\n",
    "\n",
    "# Learn encoding from the training set. Use the 'is_attributed' column as the target.\n",
    "target_enc.fit(train[cat_features], train['is_attributed'])\n",
    "\n",
    "# Apply encoding to the train and validation sets as new columns\n",
    "# Make sure to add `_target` as a suffix to the new columns\n",
    "train_encoded = train.join(target_enc.transform(train[cat_features]).add_suffix(\"_target\"))\n",
    "valid_encoded = valid.join(target_enc.transform(valid[cat_features]).add_suffix(\"_target\"))"
   ]
  },
  {
   "cell_type": "code",
   "execution_count": 25,
   "metadata": {},
   "outputs": [
    {
     "name": "stdout",
     "output_type": "stream",
     "text": [
      "[LightGBM] [Info] Number of positive: 165466, number of negative: 673395\n",
      "[LightGBM] [Warning] Auto-choosing col-wise multi-threading, the overhead of testing was 0.216359 seconds.\n",
      "You can set `force_col_wise=true` to remove the overhead.\n",
      "[LightGBM] [Info] Total Bins 1731\n",
      "[LightGBM] [Info] Number of data points in the train set: 838861, number of used features: 10\n",
      "[LightGBM] [Info] [binary:BoostFromScore]: pavg=0.197251 -> initscore=-1.403566\n",
      "[LightGBM] [Info] Start training from score -1.403566\n",
      "Validation AUC score: 0.956267895907397\n"
     ]
    },
    {
     "data": {
      "text/plain": [
       "(<lightgbm.basic.Booster at 0x1edb22ead90>, 0.956267895907397)"
      ]
     },
     "execution_count": 25,
     "metadata": {},
     "output_type": "execute_result"
    }
   ],
   "source": [
    "train_model(train_encoded, valid_encoded)"
   ]
  },
  {
   "cell_type": "code",
   "execution_count": 27,
   "metadata": {},
   "outputs": [
    {
     "data": {
      "text/html": [
       "<div>\n",
       "<style scoped>\n",
       "    .dataframe tbody tr th:only-of-type {\n",
       "        vertical-align: middle;\n",
       "    }\n",
       "\n",
       "    .dataframe tbody tr th {\n",
       "        vertical-align: top;\n",
       "    }\n",
       "\n",
       "    .dataframe thead th {\n",
       "        text-align: right;\n",
       "    }\n",
       "</style>\n",
       "<table border=\"1\" class=\"dataframe\">\n",
       "  <thead>\n",
       "    <tr style=\"text-align: right;\">\n",
       "      <th></th>\n",
       "      <th>ip</th>\n",
       "      <th>app</th>\n",
       "      <th>device</th>\n",
       "      <th>os</th>\n",
       "      <th>channel</th>\n",
       "      <th>click_time</th>\n",
       "      <th>attributed_time</th>\n",
       "      <th>is_attributed</th>\n",
       "      <th>ip_target</th>\n",
       "      <th>app_target</th>\n",
       "      <th>device_target</th>\n",
       "      <th>os_target</th>\n",
       "      <th>channel_target</th>\n",
       "    </tr>\n",
       "  </thead>\n",
       "  <tbody>\n",
       "    <tr>\n",
       "      <th>0</th>\n",
       "      <td>89489</td>\n",
       "      <td>3</td>\n",
       "      <td>1</td>\n",
       "      <td>13</td>\n",
       "      <td>379</td>\n",
       "      <td>11/6/2017 15:13</td>\n",
       "      <td>NaN</td>\n",
       "      <td>0</td>\n",
       "      <td>0.121212</td>\n",
       "      <td>0.035220</td>\n",
       "      <td>0.151948</td>\n",
       "      <td>0.14228</td>\n",
       "      <td>0.034841</td>\n",
       "    </tr>\n",
       "    <tr>\n",
       "      <th>1</th>\n",
       "      <td>204158</td>\n",
       "      <td>35</td>\n",
       "      <td>1</td>\n",
       "      <td>13</td>\n",
       "      <td>21</td>\n",
       "      <td>11/6/2017 15:41</td>\n",
       "      <td>11/7/2017 8:17</td>\n",
       "      <td>1</td>\n",
       "      <td>0.247498</td>\n",
       "      <td>0.996417</td>\n",
       "      <td>0.151948</td>\n",
       "      <td>0.14228</td>\n",
       "      <td>0.936427</td>\n",
       "    </tr>\n",
       "    <tr>\n",
       "      <th>2</th>\n",
       "      <td>3437</td>\n",
       "      <td>6</td>\n",
       "      <td>1</td>\n",
       "      <td>13</td>\n",
       "      <td>459</td>\n",
       "      <td>11/6/2017 15:42</td>\n",
       "      <td>NaN</td>\n",
       "      <td>0</td>\n",
       "      <td>0.122449</td>\n",
       "      <td>0.009236</td>\n",
       "      <td>0.151948</td>\n",
       "      <td>0.14228</td>\n",
       "      <td>0.017348</td>\n",
       "    </tr>\n",
       "    <tr>\n",
       "      <th>3</th>\n",
       "      <td>167543</td>\n",
       "      <td>3</td>\n",
       "      <td>1</td>\n",
       "      <td>13</td>\n",
       "      <td>379</td>\n",
       "      <td>11/6/2017 15:56</td>\n",
       "      <td>NaN</td>\n",
       "      <td>0</td>\n",
       "      <td>0.153846</td>\n",
       "      <td>0.035220</td>\n",
       "      <td>0.151948</td>\n",
       "      <td>0.14228</td>\n",
       "      <td>0.034841</td>\n",
       "    </tr>\n",
       "    <tr>\n",
       "      <th>4</th>\n",
       "      <td>147509</td>\n",
       "      <td>3</td>\n",
       "      <td>1</td>\n",
       "      <td>13</td>\n",
       "      <td>379</td>\n",
       "      <td>11/6/2017 15:57</td>\n",
       "      <td>NaN</td>\n",
       "      <td>0</td>\n",
       "      <td>0.047619</td>\n",
       "      <td>0.035220</td>\n",
       "      <td>0.151948</td>\n",
       "      <td>0.14228</td>\n",
       "      <td>0.034841</td>\n",
       "    </tr>\n",
       "  </tbody>\n",
       "</table>\n",
       "</div>"
      ],
      "text/plain": [
       "       ip  app  device  os  channel       click_time attributed_time  \\\n",
       "0   89489    3       1  13      379  11/6/2017 15:13             NaN   \n",
       "1  204158   35       1  13       21  11/6/2017 15:41  11/7/2017 8:17   \n",
       "2    3437    6       1  13      459  11/6/2017 15:42             NaN   \n",
       "3  167543    3       1  13      379  11/6/2017 15:56             NaN   \n",
       "4  147509    3       1  13      379  11/6/2017 15:57             NaN   \n",
       "\n",
       "   is_attributed  ip_target  app_target  device_target  os_target  \\\n",
       "0              0   0.121212    0.035220       0.151948    0.14228   \n",
       "1              1   0.247498    0.996417       0.151948    0.14228   \n",
       "2              0   0.122449    0.009236       0.151948    0.14228   \n",
       "3              0   0.153846    0.035220       0.151948    0.14228   \n",
       "4              0   0.047619    0.035220       0.151948    0.14228   \n",
       "\n",
       "   channel_target  \n",
       "0        0.034841  \n",
       "1        0.936427  \n",
       "2        0.017348  \n",
       "3        0.034841  \n",
       "4        0.034841  "
      ]
     },
     "execution_count": 27,
     "metadata": {},
     "output_type": "execute_result"
    }
   ],
   "source": [
    "train_encoded.head()"
   ]
  },
  {
   "cell_type": "code",
   "execution_count": 28,
   "metadata": {},
   "outputs": [
    {
     "data": {
      "text/html": [
       "<div>\n",
       "<style scoped>\n",
       "    .dataframe tbody tr th:only-of-type {\n",
       "        vertical-align: middle;\n",
       "    }\n",
       "\n",
       "    .dataframe tbody tr th {\n",
       "        vertical-align: top;\n",
       "    }\n",
       "\n",
       "    .dataframe thead th {\n",
       "        text-align: right;\n",
       "    }\n",
       "</style>\n",
       "<table border=\"1\" class=\"dataframe\">\n",
       "  <thead>\n",
       "    <tr style=\"text-align: right;\">\n",
       "      <th></th>\n",
       "      <th>ip</th>\n",
       "      <th>app</th>\n",
       "      <th>device</th>\n",
       "      <th>os</th>\n",
       "      <th>channel</th>\n",
       "      <th>click_time</th>\n",
       "      <th>attributed_time</th>\n",
       "      <th>is_attributed</th>\n",
       "      <th>ip_target</th>\n",
       "      <th>app_target</th>\n",
       "      <th>device_target</th>\n",
       "      <th>os_target</th>\n",
       "      <th>channel_target</th>\n",
       "    </tr>\n",
       "  </thead>\n",
       "  <tbody>\n",
       "    <tr>\n",
       "      <th>496793</th>\n",
       "      <td>107091</td>\n",
       "      <td>15</td>\n",
       "      <td>1</td>\n",
       "      <td>13</td>\n",
       "      <td>245</td>\n",
       "      <td>11/7/2017 9:31</td>\n",
       "      <td>NaN</td>\n",
       "      <td>0</td>\n",
       "      <td>0.181818</td>\n",
       "      <td>0.020538</td>\n",
       "      <td>0.151948</td>\n",
       "      <td>0.142280</td>\n",
       "      <td>0.009086</td>\n",
       "    </tr>\n",
       "    <tr>\n",
       "      <th>496794</th>\n",
       "      <td>96806</td>\n",
       "      <td>9</td>\n",
       "      <td>1</td>\n",
       "      <td>17</td>\n",
       "      <td>466</td>\n",
       "      <td>11/7/2017 9:31</td>\n",
       "      <td>NaN</td>\n",
       "      <td>0</td>\n",
       "      <td>0.095238</td>\n",
       "      <td>0.106438</td>\n",
       "      <td>0.151948</td>\n",
       "      <td>0.115283</td>\n",
       "      <td>0.095649</td>\n",
       "    </tr>\n",
       "    <tr>\n",
       "      <th>496806</th>\n",
       "      <td>22226</td>\n",
       "      <td>2</td>\n",
       "      <td>1</td>\n",
       "      <td>19</td>\n",
       "      <td>477</td>\n",
       "      <td>11/7/2017 9:31</td>\n",
       "      <td>NaN</td>\n",
       "      <td>0</td>\n",
       "      <td>0.000024</td>\n",
       "      <td>0.029551</td>\n",
       "      <td>0.151948</td>\n",
       "      <td>0.158024</td>\n",
       "      <td>0.014581</td>\n",
       "    </tr>\n",
       "    <tr>\n",
       "      <th>496796</th>\n",
       "      <td>112681</td>\n",
       "      <td>3</td>\n",
       "      <td>1</td>\n",
       "      <td>13</td>\n",
       "      <td>173</td>\n",
       "      <td>11/7/2017 9:31</td>\n",
       "      <td>NaN</td>\n",
       "      <td>0</td>\n",
       "      <td>0.363629</td>\n",
       "      <td>0.035220</td>\n",
       "      <td>0.151948</td>\n",
       "      <td>0.142280</td>\n",
       "      <td>0.057785</td>\n",
       "    </tr>\n",
       "    <tr>\n",
       "      <th>496788</th>\n",
       "      <td>120805</td>\n",
       "      <td>14</td>\n",
       "      <td>1</td>\n",
       "      <td>6</td>\n",
       "      <td>480</td>\n",
       "      <td>11/7/2017 9:31</td>\n",
       "      <td>NaN</td>\n",
       "      <td>0</td>\n",
       "      <td>0.317112</td>\n",
       "      <td>0.026476</td>\n",
       "      <td>0.151948</td>\n",
       "      <td>0.124836</td>\n",
       "      <td>0.027851</td>\n",
       "    </tr>\n",
       "  </tbody>\n",
       "</table>\n",
       "</div>"
      ],
      "text/plain": [
       "            ip  app  device  os  channel      click_time attributed_time  \\\n",
       "496793  107091   15       1  13      245  11/7/2017 9:31             NaN   \n",
       "496794   96806    9       1  17      466  11/7/2017 9:31             NaN   \n",
       "496806   22226    2       1  19      477  11/7/2017 9:31             NaN   \n",
       "496796  112681    3       1  13      173  11/7/2017 9:31             NaN   \n",
       "496788  120805   14       1   6      480  11/7/2017 9:31             NaN   \n",
       "\n",
       "        is_attributed  ip_target  app_target  device_target  os_target  \\\n",
       "496793              0   0.181818    0.020538       0.151948   0.142280   \n",
       "496794              0   0.095238    0.106438       0.151948   0.115283   \n",
       "496806              0   0.000024    0.029551       0.151948   0.158024   \n",
       "496796              0   0.363629    0.035220       0.151948   0.142280   \n",
       "496788              0   0.317112    0.026476       0.151948   0.124836   \n",
       "\n",
       "        channel_target  \n",
       "496793        0.009086  \n",
       "496794        0.095649  \n",
       "496806        0.014581  \n",
       "496796        0.057785  \n",
       "496788        0.027851  "
      ]
     },
     "execution_count": 28,
     "metadata": {},
     "output_type": "execute_result"
    }
   ],
   "source": [
    "valid_encoded.head()"
   ]
  },
  {
   "cell_type": "code",
   "execution_count": 32,
   "metadata": {},
   "outputs": [
    {
     "name": "stderr",
     "output_type": "stream",
     "text": [
      "C:\\Users\\hp\\anaconda3\\lib\\site-packages\\category_encoders\\utils.py:21: FutureWarning: is_categorical is deprecated and will be removed in a future version.  Use is_categorical_dtype instead\n",
      "  elif pd.api.types.is_categorical(cols):\n"
     ]
    }
   ],
   "source": [
    "#remove ip\n",
    "# Remove IP from the encoded features\n",
    "cat_features = ['app', 'device', 'os', 'channel']\n",
    "\n",
    "# Create the CatBoost encoder\n",
    "t_enc = ce.TargetEncoder(cols=cat_features)\n",
    "\n",
    "# Learn encoding from the training set\n",
    "tip_enc=t_enc.fit(train[cat_features],train['is_attributed'])\n",
    "\n",
    "# Apply encoding to the train and validation sets as new columns\n",
    "# Make sure to add `_cb` as a suffix to the new columns\n",
    "train_encoded = train.join(tip_enc.transform(train[cat_features]).add_suffix(\"_cb\"))\n",
    "valid_encoded = valid.join(tip_enc.transform(valid[cat_features]).add_suffix(\"_cb\"))"
   ]
  },
  {
   "cell_type": "code",
   "execution_count": 33,
   "metadata": {},
   "outputs": [
    {
     "name": "stdout",
     "output_type": "stream",
     "text": [
      "[LightGBM] [Info] Number of positive: 165466, number of negative: 673395\n",
      "[LightGBM] [Warning] Auto-choosing col-wise multi-threading, the overhead of testing was 0.152766 seconds.\n",
      "You can set `force_col_wise=true` to remove the overhead.\n",
      "[LightGBM] [Info] Total Bins 1477\n",
      "[LightGBM] [Info] Number of data points in the train set: 838861, number of used features: 9\n",
      "[LightGBM] [Info] [binary:BoostFromScore]: pavg=0.197251 -> initscore=-1.403566\n",
      "[LightGBM] [Info] Start training from score -1.403566\n",
      "Validation AUC score: 0.9695418550329439\n"
     ]
    },
    {
     "data": {
      "text/plain": [
       "(<lightgbm.basic.Booster at 0x1edb1dacbe0>, 0.9695418550329439)"
      ]
     },
     "execution_count": 33,
     "metadata": {},
     "output_type": "execute_result"
    }
   ],
   "source": [
    "train_model(train_encoded, valid_encoded)"
   ]
  },
  {
   "cell_type": "code",
   "execution_count": 29,
   "metadata": {},
   "outputs": [
    {
     "name": "stderr",
     "output_type": "stream",
     "text": [
      "C:\\Users\\hp\\anaconda3\\lib\\site-packages\\category_encoders\\utils.py:21: FutureWarning: is_categorical is deprecated and will be removed in a future version.  Use is_categorical_dtype instead\n",
      "  elif pd.api.types.is_categorical(cols):\n"
     ]
    }
   ],
   "source": [
    "# Remove IP from the encoded features\n",
    "cat_features = ['app', 'device', 'os', 'channel']\n",
    "\n",
    "# Create the CatBoost encoder\n",
    "cb_enc = ce.CatBoostEncoder(cols=cat_features, random_state=7)\n",
    "\n",
    "# Learn encoding from the training set\n",
    "catboost_enc=cb_enc.fit(train[cat_features],train['is_attributed'])\n",
    "\n",
    "# Apply encoding to the train and validation sets as new columns\n",
    "# Make sure to add `_cb` as a suffix to the new columns\n",
    "train_encoded = train.join(catboost_enc.transform(train[cat_features]).add_suffix(\"_cb\"))\n",
    "valid_encoded = valid.join(catboost_enc.transform(valid[cat_features]).add_suffix(\"_cb\"))"
   ]
  },
  {
   "cell_type": "code",
   "execution_count": 30,
   "metadata": {},
   "outputs": [
    {
     "name": "stdout",
     "output_type": "stream",
     "text": [
      "[LightGBM] [Info] Number of positive: 165466, number of negative: 673395\n",
      "[LightGBM] [Warning] Auto-choosing col-wise multi-threading, the overhead of testing was 0.097623 seconds.\n",
      "You can set `force_col_wise=true` to remove the overhead.\n",
      "[LightGBM] [Info] Total Bins 1527\n",
      "[LightGBM] [Info] Number of data points in the train set: 838861, number of used features: 9\n",
      "[LightGBM] [Info] [binary:BoostFromScore]: pavg=0.197251 -> initscore=-1.403566\n",
      "[LightGBM] [Info] Start training from score -1.403566\n",
      "Validation AUC score: 0.9696329482948687\n"
     ]
    },
    {
     "data": {
      "text/plain": [
       "(<lightgbm.basic.Booster at 0x1edb1f5e0d0>, 0.9696329482948687)"
      ]
     },
     "execution_count": 30,
     "metadata": {},
     "output_type": "execute_result"
    }
   ],
   "source": [
    "train_model(train_encoded, valid_encoded)"
   ]
  },
  {
   "cell_type": "markdown",
   "metadata": {},
   "source": [
    "# Best encoder in this case is Count Encoding "
   ]
  }
 ],
 "metadata": {
  "kernelspec": {
   "display_name": "Python 3",
   "language": "python",
   "name": "python3"
  },
  "language_info": {
   "codemirror_mode": {
    "name": "ipython",
    "version": 3
   },
   "file_extension": ".py",
   "mimetype": "text/x-python",
   "name": "python",
   "nbconvert_exporter": "python",
   "pygments_lexer": "ipython3",
   "version": "3.8.5"
  }
 },
 "nbformat": 4,
 "nbformat_minor": 4
}
